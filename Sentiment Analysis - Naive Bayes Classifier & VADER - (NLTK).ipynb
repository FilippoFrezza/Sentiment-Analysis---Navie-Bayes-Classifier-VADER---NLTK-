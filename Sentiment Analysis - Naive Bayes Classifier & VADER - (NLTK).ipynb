{
 "cells": [
  {
   "cell_type": "markdown",
   "metadata": {},
   "source": [
    "# Sentiment Analysis - Naive Bayes Classifier & VADER - (NLTK)"
   ]
  },
  {
   "cell_type": "code",
   "execution_count": 359,
   "metadata": {
    "collapsed": false
   },
   "outputs": [
    {
     "name": "stderr",
     "output_type": "stream",
     "text": [
      "/Users/filippofrezza/anaconda/lib/python3.6/site-packages/nltk/twitter/__init__.py:20: UserWarning: The twython library has not been installed. Some functionality from the twitter package will not be available.\n",
      "  warnings.warn(\"The twython library has not been installed. \"\n"
     ]
    }
   ],
   "source": [
    "import nltk\n",
    "import nltk.classify.util, nltk.metrics\n",
    "from nltk.classify import NaiveBayesClassifier\n",
    "from nltk.corpus import movie_reviews\n",
    "from nltk.corpus import stopwords\n",
    "import itertools\n",
    "from nltk.collocations import BigramCollocationFinder\n",
    "from nltk.metrics import BigramAssocMeasures\n",
    "from nltk.probability import FreqDist, ConditionalFreqDist \n",
    "from nltk.corpus import subjectivity\n",
    "from nltk.sentiment import SentimentAnalyzer\n",
    "from nltk.sentiment.util import *\n",
    "import collections\n",
    "import re"
   ]
  },
  {
   "cell_type": "markdown",
   "metadata": {},
   "source": [
    "### Tokenizer\n",
    "\n",
    "This function breaks down sentences into a list of words, very useful when parsing a review in a paragraph-like format. "
   ]
  },
  {
   "cell_type": "code",
   "execution_count": 39,
   "metadata": {
    "collapsed": false
   },
   "outputs": [],
   "source": [
    "def tokens(text):\n",
    "    \"List all the word tokens (consecutive letters) in a text. Normalize to lowercase.\"\n",
    "    return re.findall('[a-z]+', text.lower())"
   ]
  },
  {
   "cell_type": "code",
   "execution_count": 399,
   "metadata": {
    "collapsed": false
   },
   "outputs": [
    {
     "data": {
      "text/plain": [
       "['it',\n",
       " 'was',\n",
       " 'not',\n",
       " 'nice',\n",
       " 'cool',\n",
       " 'but',\n",
       " 'i',\n",
       " 'believe',\n",
       " 'it',\n",
       " 'was',\n",
       " 'just',\n",
       " 'a',\n",
       " 'bit',\n",
       " 'expensive']"
      ]
     },
     "execution_count": 399,
     "metadata": {},
     "output_type": "execute_result"
    }
   ],
   "source": [
    "text = \"it was not nice, cool but I believe it was just a bit expensive\"\n",
    "\n",
    "tokenized_text = tokens(text)\n",
    "tokenized_text"
   ]
  },
  {
   "cell_type": "markdown",
   "metadata": {},
   "source": [
    "### Building lists for different emotions:\n",
    "\n",
    "The idea is to build a list of words that distinguish the feeling that the sentence is trying to express by balancing out the number of positive and negative words that are being parsed."
   ]
  },
  {
   "cell_type": "code",
   "execution_count": 121,
   "metadata": {
    "collapsed": true
   },
   "outputs": [],
   "source": [
    "positive_words = ['nice','awesome','cool','superb']\n",
    "negative_words = ['bad','uninspired', 'expensive','disappointed','recommend others to avoid']\n",
    "negations = ['not']"
   ]
  },
  {
   "cell_type": "markdown",
   "metadata": {},
   "source": [
    "# Emotions Function:\n",
    "\n",
    "This is a very simple function that checks whether it can match any of the words it reads for the given emotions it knows."
   ]
  },
  {
   "cell_type": "code",
   "execution_count": 407,
   "metadata": {
    "collapsed": false
   },
   "outputs": [
    {
     "data": {
      "text/plain": [
       "(2, 1)"
      ]
     },
     "execution_count": 407,
     "metadata": {},
     "output_type": "execute_result"
    }
   ],
   "source": [
    "def emotions(sentence):\n",
    "    positive_score = 0\n",
    "    negaitve_score = 0\n",
    "    for w in tokens(sentence):\n",
    "        positive_score += positive_words.count(w)\n",
    "        negaitve_score += negative_words.count(w)\n",
    "    return positive_score, negative_score\n",
    "\n",
    "emotions(text)"
   ]
  },
  {
   "cell_type": "markdown",
   "metadata": {},
   "source": [
    "# Naive Bayes Classifier:"
   ]
  },
  {
   "cell_type": "code",
   "execution_count": 330,
   "metadata": {
    "collapsed": false
   },
   "outputs": [],
   "source": [
    "def evaluate_classifier(featx):\n",
    "    negids = movie_reviews.fileids('neg')\n",
    "    posids = movie_reviews.fileids('pos')\n",
    " \n",
    "    negfeats = [(featx(movie_reviews.words(fileids=[f])), 'neg') for f in negids]\n",
    "    posfeats = [(featx(movie_reviews.words(fileids=[f])), 'pos') for f in posids]\n",
    " \n",
    "    negcutoff = len(negfeats)*3/4\n",
    "    poscutoff = len(posfeats)*3/4\n",
    "    \n",
    "    #Splitting the dataframe into train and test set\n",
    "    \n",
    "    trainfeats = negfeats[:int(negcutoff)] + posfeats[:int(poscutoff)]\n",
    "    testfeats = negfeats[int(negcutoff):] + posfeats[int(poscutoff):]\n",
    " \n",
    "    classifier = NaiveBayesClassifier.train(trainfeats)\n",
    "    refsets = collections.defaultdict(set)\n",
    "    testsets = collections.defaultdict(set)\n",
    " \n",
    "    for i, (feats, label) in enumerate(testfeats):\n",
    "            refsets[label].add(i)\n",
    "            observed = classifier.classify(feats)\n",
    "            testsets[observed].add(i)\n",
    " \n",
    "    print ('accuracy:', nltk.classify.util.accuracy(classifier, testfeats))\n",
    "    classifier.show_most_informative_features()\n"
   ]
  },
  {
   "cell_type": "code",
   "execution_count": 331,
   "metadata": {
    "collapsed": false
   },
   "outputs": [
    {
     "name": "stdout",
     "output_type": "stream",
     "text": [
      "accuracy: 0.728\n",
      "Most Informative Features\n",
      "             magnificent = True              pos : neg    =     15.0 : 1.0\n",
      "             outstanding = True              pos : neg    =     13.6 : 1.0\n",
      "               insulting = True              neg : pos    =     13.0 : 1.0\n",
      "              vulnerable = True              pos : neg    =     12.3 : 1.0\n",
      "               ludicrous = True              neg : pos    =     11.8 : 1.0\n",
      "                  avoids = True              pos : neg    =     11.7 : 1.0\n",
      "             uninvolving = True              neg : pos    =     11.7 : 1.0\n",
      "              astounding = True              pos : neg    =     10.3 : 1.0\n",
      "             fascination = True              pos : neg    =     10.3 : 1.0\n",
      "                 idiotic = True              neg : pos    =      9.8 : 1.0\n"
     ]
    }
   ],
   "source": [
    "def word_feats(words):\n",
    "    return dict([(word, True) for word in words])\n",
    " \n",
    "evaluate_classifier(word_feats)"
   ]
  },
  {
   "cell_type": "markdown",
   "metadata": {},
   "source": [
    "### Stop Words:"
   ]
  },
  {
   "cell_type": "code",
   "execution_count": 333,
   "metadata": {
    "collapsed": false
   },
   "outputs": [
    {
     "name": "stdout",
     "output_type": "stream",
     "text": [
      "accuracy: 0.724\n",
      "Most Informative Features\n",
      "             magnificent = True              pos : neg    =     15.0 : 1.0\n",
      "             outstanding = True              pos : neg    =     13.6 : 1.0\n",
      "               insulting = True              neg : pos    =     13.0 : 1.0\n",
      "              vulnerable = True              pos : neg    =     12.3 : 1.0\n",
      "               ludicrous = True              neg : pos    =     11.8 : 1.0\n",
      "                  avoids = True              pos : neg    =     11.7 : 1.0\n",
      "             uninvolving = True              neg : pos    =     11.7 : 1.0\n",
      "              astounding = True              pos : neg    =     10.3 : 1.0\n",
      "             fascination = True              pos : neg    =     10.3 : 1.0\n",
      "                 idiotic = True              neg : pos    =      9.8 : 1.0\n"
     ]
    }
   ],
   "source": [
    "stopset = set(stopwords.words('english'))\n",
    " \n",
    "def stopword_filtered_word_feats(words):\n",
    "    return dict([(word, True) for word in words if word not in stopset])\n",
    " \n",
    "evaluate_classifier(stopword_filtered_word_feats)"
   ]
  },
  {
   "cell_type": "markdown",
   "metadata": {},
   "source": [
    "### Bigrams:"
   ]
  },
  {
   "cell_type": "code",
   "execution_count": 351,
   "metadata": {
    "collapsed": false
   },
   "outputs": [
    {
     "name": "stdout",
     "output_type": "stream",
     "text": [
      "evaluating best words + bigram chi_sq word features\n",
      "accuracy: 0.854\n",
      "Most Informative Features\n",
      "          ('give', 'us') = True              neg : pos    =     12.3 : 1.0\n",
      "              vulnerable = True              pos : neg    =     12.3 : 1.0\n",
      "       ('matt', 'damon') = True              pos : neg    =     12.3 : 1.0\n",
      "             uninvolving = True              neg : pos    =     11.7 : 1.0\n",
      "    ('absolutely', 'no') = True              neg : pos    =     10.6 : 1.0\n",
      "       ('fairy', 'tale') = True              pos : neg    =     10.3 : 1.0\n",
      "       ('video', 'game') = True              neg : pos    =      9.7 : 1.0\n",
      "                  symbol = True              pos : neg    =      9.7 : 1.0\n",
      "     ('saving', 'grace') = True              neg : pos    =      9.7 : 1.0\n",
      "    ('quite', 'frankly') = True              neg : pos    =      9.7 : 1.0\n"
     ]
    }
   ],
   "source": [
    "def best_bigram_word_feats(words, score_fn=BigramAssocMeasures.chi_sq, n=200):\n",
    "    bigram_finder = BigramCollocationFinder.from_words(words)\n",
    "    bigrams = bigram_finder.nbest(score_fn, n)\n",
    "    d = dict([(bigram, True) for bigram in bigrams])\n",
    "    d.update(best_word_feats(words))\n",
    "    return d\n",
    " \n",
    "print('evaluating best words + bigram chi_sq word features')\n",
    "evaluate_classifier(best_bigram_word_feats)"
   ]
  },
  {
   "cell_type": "markdown",
   "metadata": {},
   "source": [
    "# ALTERNATIVE NAIVE BAYES CLASSIFIER : "
   ]
  },
  {
   "cell_type": "markdown",
   "metadata": {},
   "source": [
    "### Subjective and Objective documents :\n",
    "\n",
    "The aim here is to create two type of documents, one where emotions are protrayed (subjective documents) and one where facts regarding movies are being stated (objective documents)."
   ]
  },
  {
   "cell_type": "code",
   "execution_count": 362,
   "metadata": {
    "collapsed": false
   },
   "outputs": [],
   "source": [
    "n_instances = 500\n",
    "subj_docs = [(sent, 'subj') for sent in subjectivity.sents(categories='subj')[:n_instances]]\n",
    "obj_docs = [(sent, 'obj') for sent in subjectivity.sents(categories='obj')[:n_instances]]"
   ]
  },
  {
   "cell_type": "markdown",
   "metadata": {},
   "source": [
    "### Train and Test Sets :"
   ]
  },
  {
   "cell_type": "code",
   "execution_count": 365,
   "metadata": {
    "collapsed": true
   },
   "outputs": [],
   "source": [
    "train_subj_docs = subj_docs[:400]\n",
    "test_subj_docs = subj_docs[400:]\n",
    "\n",
    "train_obj_docs = obj_docs[:400]\n",
    "test_obj_docs = obj_docs[400:]\n",
    "\n",
    "training_docs = train_subj_docs+train_obj_docs\n",
    "testing_docs = test_subj_docs+test_obj_docs\n",
    "\n",
    "sentim_analyzer = SentimentAnalyzer()\n",
    "all_words_neg = sentim_analyzer.all_words([mark_negation(doc) for doc in training_docs])"
   ]
  },
  {
   "cell_type": "markdown",
   "metadata": {},
   "source": [
    "### Adding Unigrams to model's feature extraction process:\n",
    "\n",
    "For this alternative model it appears that Unigrams work better that Bi-grams. They contribute to a significant increase in accuracy, precision, f-measure and recall. "
   ]
  },
  {
   "cell_type": "code",
   "execution_count": 395,
   "metadata": {
    "collapsed": true
   },
   "outputs": [],
   "source": [
    "unigram_feats = sentim_analyzer.unigram_word_feats(all_words_neg, min_freq=4)\n",
    "\n",
    "sentim_analyzer.add_feat_extractor(extract_unigram_feats, unigrams=unigram_feats)"
   ]
  },
  {
   "cell_type": "markdown",
   "metadata": {},
   "source": [
    "### Results:"
   ]
  },
  {
   "cell_type": "code",
   "execution_count": 396,
   "metadata": {
    "collapsed": true
   },
   "outputs": [],
   "source": [
    "training_set = sentim_analyzer.apply_features(training_docs)\n",
    "test_set = sentim_analyzer.apply_features(testing_docs)"
   ]
  },
  {
   "cell_type": "code",
   "execution_count": 397,
   "metadata": {
    "collapsed": false
   },
   "outputs": [
    {
     "name": "stdout",
     "output_type": "stream",
     "text": [
      "Training classifier\n"
     ]
    }
   ],
   "source": [
    "trainer = NaiveBayesClassifier.train\n",
    "classifier = sentim_analyzer.train(trainer, training_set)"
   ]
  },
  {
   "cell_type": "code",
   "execution_count": 398,
   "metadata": {
    "collapsed": false
   },
   "outputs": [
    {
     "name": "stdout",
     "output_type": "stream",
     "text": [
      "Evaluating NaiveBayesClassifier results...\n",
      "Accuracy: 0.905\n",
      "F-measure [obj]: 0.9054726368159204\n",
      "F-measure [subj]: 0.9045226130653266\n",
      "Precision [obj]: 0.900990099009901\n",
      "Precision [subj]: 0.9090909090909091\n",
      "Recall [obj]: 0.91\n",
      "Recall [subj]: 0.9\n"
     ]
    }
   ],
   "source": [
    "for key,value in sorted(sentim_analyzer.evaluate(test_set).items()):\n",
    "    print('{0}: {1}'.format(key, value))"
   ]
  },
  {
   "cell_type": "markdown",
   "metadata": {},
   "source": [
    "# VADER : \n",
    "\n",
    "This is a lexicon and rule-based tool that outputs the sentiment intensity score as well as giving the percentage of positive, netural and negative tone that emerges from the given sentence/paragraph. VADER also outputs a compound score, which basically is a normalized score for the sentiment intensity. "
   ]
  },
  {
   "cell_type": "code",
   "execution_count": 408,
   "metadata": {
    "collapsed": true
   },
   "outputs": [],
   "source": [
    "from nltk.sentiment.vader import SentimentIntensityAnalyzer"
   ]
  },
  {
   "cell_type": "markdown",
   "metadata": {},
   "source": [
    "### Creating the corpus of sentences:"
   ]
  },
  {
   "cell_type": "markdown",
   "metadata": {},
   "source": [
    "#### Sentences:"
   ]
  },
  {
   "cell_type": "code",
   "execution_count": 410,
   "metadata": {
    "collapsed": false
   },
   "outputs": [],
   "source": [
    "sentences = [\"VADER is smart, handsome, and funny.\", # positive sentence example\n",
    "\"VADER is smart, handsome, and funny!\", # punctuation emphasis handled correctly (sentiment intensity adjusted)\n",
    "\"VADER is very smart, handsome, and funny.\",  # booster words handled correctly (sentiment intensity adjusted)\n",
    "\"VADER is VERY SMART, handsome, and FUNNY.\",  # emphasis for ALLCAPS handled\n",
    "\"VADER is VERY SMART, handsome, and FUNNY!!!\",# combination of signals - VADER appropriately adjusts intensity\n",
    "\"VADER is VERY SMART, really handsome, and INCREDIBLY FUNNY!!!\",# booster words & punctuation make this close to ceiling for score\n",
    "\"The book was good.\",         # positive sentence\n",
    "\"The book was kind of good.\", # qualified positive sentence is handled correctly (intensity adjusted)\n",
    "\"The plot was good, but the characters are uncompelling and the dialog is not great.\", # mixed negation sentence\n",
    "\"A really bad, horrible book.\",       # negative sentence with booster words\n",
    "\"At least it isn't a horrible book.\", # negated negative sentence with contraction\n",
    "\":) and :D\",     # emoticons handled\n",
    "\"\",              # an empty string is correctly handled\n",
    "\"Today sux\",     #  negative slang handled\n",
    "\"Today sux!\",    #  negative slang with punctuation emphasis handled\n",
    "\"Today SUX!\",    #  negative slang with capitalization emphasis\n",
    "\"Today kinda sux! But I'll get by, lol\" # mixed sentiment example with slang and constrastive conjunction \"but\"\n",
    "            ]"
   ]
  },
  {
   "cell_type": "markdown",
   "metadata": {},
   "source": [
    "#### Paragraphs:"
   ]
  },
  {
   "cell_type": "code",
   "execution_count": 412,
   "metadata": {
    "collapsed": true
   },
   "outputs": [],
   "source": [
    "paragraph = \"It was one of the worst movies I've seen, despite good reviews. \\\n",
    "Unbelievably bad acting!! Poor direction. VERY poor production. \\\n",
    "The movie was bad. Very bad movie. VERY bad movie. VERY BAD movie. VERY BAD movie!\"\n",
    "\n",
    "lines_list = tokens(paragraph) #this is exactly where the tokenizer comes in handy\n",
    "sentences.extend(lines_list)"
   ]
  },
  {
   "cell_type": "markdown",
   "metadata": {},
   "source": [
    "#### Tricky Sentences:"
   ]
  },
  {
   "cell_type": "code",
   "execution_count": 413,
   "metadata": {
    "collapsed": true
   },
   "outputs": [],
   "source": [
    "tricky_sentences = [\n",
    "\"Most automated sentiment analysis tools are shit.\",\n",
    "\"VADER sentiment analysis is the shit.\",\n",
    "\"Sentiment analysis has never been good.\",\n",
    "\"Sentiment analysis with VADER has never been this good.\",\n",
    "\"Warren Beatty has never been so entertaining.\",\n",
    "\"I won't say that the movie is astounding and I wouldn't claim that \\\n",
    "the movie is too banal either.\",\n",
    "\"I like to hate Michael Bay films, but I couldn't fault this one\",\n",
    "\"It's one thing to watch an Uwe Boll film, but another thing entirely \\\n",
    "to pay for it\",\n",
    "\"The movie was too good\",\n",
    "\"This movie was actually neither that funny, nor super witty.\",\n",
    "\"This movie doesn't care about cleverness, wit or any other kind of \\\n",
    "intelligent humor.\",\n",
    "\"Those who find ugly meanings in beautiful things are corrupt without \\\n",
    "being charming.\",\n",
    "\"There are slow and repetitive parts, BUT it has just enough spice to \\\n",
    "keep it interesting.\",\n",
    "\"The script is not fantastic, but the acting is decent and the cinematography \\\n",
    "is EXCELLENT!\",\n",
    "\"Roger Dodger is one of the most compelling variations on this theme.\",\n",
    "\"Roger Dodger is one of the least compelling variations on this theme.\",\n",
    "\"Roger Dodger is at least compelling as a variation on the theme.\",\n",
    "\"they fall in love with the product\",\n",
    "\"but then it breaks\",\n",
    "\"usually around the time the 90 day warranty expires\",\n",
    "\"the twin towers collapsed today\",\n",
    "\"However, Mr. Carter solemnly argues, his client carried out the kidnapping \\\n",
    "under orders and in the ''least offensive way possible.''\"\n",
    "]"
   ]
  },
  {
   "cell_type": "code",
   "execution_count": 414,
   "metadata": {
    "collapsed": true
   },
   "outputs": [],
   "source": [
    "#adding tricky sentences to the corpus\n",
    "sentences.extend(tricky_sentences)"
   ]
  },
  {
   "cell_type": "markdown",
   "metadata": {},
   "source": [
    "# Outcome :"
   ]
  },
  {
   "cell_type": "code",
   "execution_count": 415,
   "metadata": {
    "collapsed": false
   },
   "outputs": [
    {
     "name": "stdout",
     "output_type": "stream",
     "text": [
      "VADER is smart, handsome, and funny.\n",
      "compound: 0.8316, \n",
      "neg: 0.0, \n",
      "neu: 0.254, \n",
      "pos: 0.746, \n",
      "VADER is smart, handsome, and funny!\n",
      "compound: 0.8439, \n",
      "neg: 0.0, \n",
      "neu: 0.248, \n",
      "pos: 0.752, \n",
      "VADER is very smart, handsome, and funny.\n",
      "compound: 0.8545, \n",
      "neg: 0.0, \n",
      "neu: 0.299, \n",
      "pos: 0.701, \n",
      "VADER is VERY SMART, handsome, and FUNNY.\n",
      "compound: 0.9227, \n",
      "neg: 0.0, \n",
      "neu: 0.246, \n",
      "pos: 0.754, \n",
      "VADER is VERY SMART, handsome, and FUNNY!!!\n",
      "compound: 0.9342, \n",
      "neg: 0.0, \n",
      "neu: 0.233, \n",
      "pos: 0.767, \n",
      "VADER is VERY SMART, really handsome, and INCREDIBLY FUNNY!!!\n",
      "compound: 0.9469, \n",
      "neg: 0.0, \n",
      "neu: 0.294, \n",
      "pos: 0.706, \n",
      "The book was good.\n",
      "compound: 0.4404, \n",
      "neg: 0.0, \n",
      "neu: 0.508, \n",
      "pos: 0.492, \n",
      "The book was kind of good.\n",
      "compound: 0.3832, \n",
      "neg: 0.0, \n",
      "neu: 0.657, \n",
      "pos: 0.343, \n",
      "The plot was good, but the characters are uncompelling and the dialog is not great.\n",
      "compound: -0.7042, \n",
      "neg: 0.327, \n",
      "neu: 0.579, \n",
      "pos: 0.094, \n",
      "A really bad, horrible book.\n",
      "compound: -0.8211, \n",
      "neg: 0.791, \n",
      "neu: 0.209, \n",
      "pos: 0.0, \n",
      "At least it isn't a horrible book.\n",
      "compound: 0.431, \n",
      "neg: 0.0, \n",
      "neu: 0.637, \n",
      "pos: 0.363, \n",
      ":) and :D\n",
      "compound: 0.7925, \n",
      "neg: 0.0, \n",
      "neu: 0.124, \n",
      "pos: 0.876, \n",
      "\n",
      "compound: 0.0, \n",
      "neg: 0.0, \n",
      "neu: 0.0, \n",
      "pos: 0.0, \n",
      "Today sux\n",
      "compound: -0.3612, \n",
      "neg: 0.714, \n",
      "neu: 0.286, \n",
      "pos: 0.0, \n",
      "Today sux!\n",
      "compound: -0.4199, \n",
      "neg: 0.736, \n",
      "neu: 0.264, \n",
      "pos: 0.0, \n",
      "Today SUX!\n",
      "compound: -0.5461, \n",
      "neg: 0.779, \n",
      "neu: 0.221, \n",
      "pos: 0.0, \n",
      "Today kinda sux! But I'll get by, lol\n",
      "compound: 0.2228, \n",
      "neg: 0.195, \n",
      "neu: 0.531, \n",
      "pos: 0.274, \n",
      "it\n",
      "compound: 0.0, \n",
      "neg: 0.0, \n",
      "neu: 1.0, \n",
      "pos: 0.0, \n",
      "was\n",
      "compound: 0.0, \n",
      "neg: 0.0, \n",
      "neu: 1.0, \n",
      "pos: 0.0, \n",
      "one\n",
      "compound: 0.0, \n",
      "neg: 0.0, \n",
      "neu: 1.0, \n",
      "pos: 0.0, \n",
      "of\n",
      "compound: 0.0, \n",
      "neg: 0.0, \n",
      "neu: 1.0, \n",
      "pos: 0.0, \n",
      "the\n",
      "compound: 0.0, \n",
      "neg: 0.0, \n",
      "neu: 1.0, \n",
      "pos: 0.0, \n",
      "worst\n",
      "compound: -0.6249, \n",
      "neg: 1.0, \n",
      "neu: 0.0, \n",
      "pos: 0.0, \n",
      "movies\n",
      "compound: 0.0, \n",
      "neg: 0.0, \n",
      "neu: 1.0, \n",
      "pos: 0.0, \n",
      "i\n",
      "compound: 0.0, \n",
      "neg: 0.0, \n",
      "neu: 0.0, \n",
      "pos: 0.0, \n",
      "ve\n",
      "compound: 0.0, \n",
      "neg: 0.0, \n",
      "neu: 1.0, \n",
      "pos: 0.0, \n",
      "seen\n",
      "compound: 0.0, \n",
      "neg: 0.0, \n",
      "neu: 1.0, \n",
      "pos: 0.0, \n",
      "despite\n",
      "compound: 0.0, \n",
      "neg: 0.0, \n",
      "neu: 1.0, \n",
      "pos: 0.0, \n",
      "good\n",
      "compound: 0.4404, \n",
      "neg: 0.0, \n",
      "neu: 0.0, \n",
      "pos: 1.0, \n",
      "reviews\n",
      "compound: 0.0, \n",
      "neg: 0.0, \n",
      "neu: 1.0, \n",
      "pos: 0.0, \n",
      "unbelievably\n",
      "compound: 0.0, \n",
      "neg: 0.0, \n",
      "neu: 1.0, \n",
      "pos: 0.0, \n",
      "bad\n",
      "compound: -0.5423, \n",
      "neg: 1.0, \n",
      "neu: 0.0, \n",
      "pos: 0.0, \n",
      "acting\n",
      "compound: 0.0, \n",
      "neg: 0.0, \n",
      "neu: 1.0, \n",
      "pos: 0.0, \n",
      "poor\n",
      "compound: -0.4767, \n",
      "neg: 1.0, \n",
      "neu: 0.0, \n",
      "pos: 0.0, \n",
      "direction\n",
      "compound: 0.0, \n",
      "neg: 0.0, \n",
      "neu: 1.0, \n",
      "pos: 0.0, \n",
      "very\n",
      "compound: 0.0, \n",
      "neg: 0.0, \n",
      "neu: 1.0, \n",
      "pos: 0.0, \n",
      "poor\n",
      "compound: -0.4767, \n",
      "neg: 1.0, \n",
      "neu: 0.0, \n",
      "pos: 0.0, \n",
      "production\n",
      "compound: 0.0, \n",
      "neg: 0.0, \n",
      "neu: 1.0, \n",
      "pos: 0.0, \n",
      "the\n",
      "compound: 0.0, \n",
      "neg: 0.0, \n",
      "neu: 1.0, \n",
      "pos: 0.0, \n",
      "movie\n",
      "compound: 0.0, \n",
      "neg: 0.0, \n",
      "neu: 1.0, \n",
      "pos: 0.0, \n",
      "was\n",
      "compound: 0.0, \n",
      "neg: 0.0, \n",
      "neu: 1.0, \n",
      "pos: 0.0, \n",
      "bad\n",
      "compound: -0.5423, \n",
      "neg: 1.0, \n",
      "neu: 0.0, \n",
      "pos: 0.0, \n",
      "very\n",
      "compound: 0.0, \n",
      "neg: 0.0, \n",
      "neu: 1.0, \n",
      "pos: 0.0, \n",
      "bad\n",
      "compound: -0.5423, \n",
      "neg: 1.0, \n",
      "neu: 0.0, \n",
      "pos: 0.0, \n",
      "movie\n",
      "compound: 0.0, \n",
      "neg: 0.0, \n",
      "neu: 1.0, \n",
      "pos: 0.0, \n",
      "very\n",
      "compound: 0.0, \n",
      "neg: 0.0, \n",
      "neu: 1.0, \n",
      "pos: 0.0, \n",
      "bad\n",
      "compound: -0.5423, \n",
      "neg: 1.0, \n",
      "neu: 0.0, \n",
      "pos: 0.0, \n",
      "movie\n",
      "compound: 0.0, \n",
      "neg: 0.0, \n",
      "neu: 1.0, \n",
      "pos: 0.0, \n",
      "very\n",
      "compound: 0.0, \n",
      "neg: 0.0, \n",
      "neu: 1.0, \n",
      "pos: 0.0, \n",
      "bad\n",
      "compound: -0.5423, \n",
      "neg: 1.0, \n",
      "neu: 0.0, \n",
      "pos: 0.0, \n",
      "movie\n",
      "compound: 0.0, \n",
      "neg: 0.0, \n",
      "neu: 1.0, \n",
      "pos: 0.0, \n",
      "very\n",
      "compound: 0.0, \n",
      "neg: 0.0, \n",
      "neu: 1.0, \n",
      "pos: 0.0, \n",
      "bad\n",
      "compound: -0.5423, \n",
      "neg: 1.0, \n",
      "neu: 0.0, \n",
      "pos: 0.0, \n",
      "movie\n",
      "compound: 0.0, \n",
      "neg: 0.0, \n",
      "neu: 1.0, \n",
      "pos: 0.0, \n",
      "Most automated sentiment analysis tools are shit.\n",
      "compound: -0.5574, \n",
      "neg: 0.375, \n",
      "neu: 0.625, \n",
      "pos: 0.0, \n",
      "VADER sentiment analysis is the shit.\n",
      "compound: 0.6124, \n",
      "neg: 0.0, \n",
      "neu: 0.556, \n",
      "pos: 0.444, \n",
      "Sentiment analysis has never been good.\n",
      "compound: -0.3412, \n",
      "neg: 0.325, \n",
      "neu: 0.675, \n",
      "pos: 0.0, \n",
      "Sentiment analysis with VADER has never been this good.\n",
      "compound: 0.5228, \n",
      "neg: 0.0, \n",
      "neu: 0.703, \n",
      "pos: 0.297, \n",
      "Warren Beatty has never been so entertaining.\n",
      "compound: 0.5777, \n",
      "neg: 0.0, \n",
      "neu: 0.616, \n",
      "pos: 0.384, \n",
      "I won't say that the movie is astounding and I wouldn't claim that the movie is too banal either.\n",
      "compound: 0.4215, \n",
      "neg: 0.0, \n",
      "neu: 0.851, \n",
      "pos: 0.149, \n",
      "I like to hate Michael Bay films, but I couldn't fault this one\n",
      "compound: 0.3153, \n",
      "neg: 0.157, \n",
      "neu: 0.534, \n",
      "pos: 0.309, \n",
      "It's one thing to watch an Uwe Boll film, but another thing entirely to pay for it\n",
      "compound: -0.2541, \n",
      "neg: 0.112, \n",
      "neu: 0.888, \n",
      "pos: 0.0, \n",
      "The movie was too good\n",
      "compound: 0.4404, \n",
      "neg: 0.0, \n",
      "neu: 0.58, \n",
      "pos: 0.42, \n",
      "This movie was actually neither that funny, nor super witty.\n",
      "compound: -0.6759, \n",
      "neg: 0.41, \n",
      "neu: 0.59, \n",
      "pos: 0.0, \n",
      "This movie doesn't care about cleverness, wit or any other kind of intelligent humor.\n",
      "compound: -0.1338, \n",
      "neg: 0.265, \n",
      "neu: 0.497, \n",
      "pos: 0.239, \n",
      "Those who find ugly meanings in beautiful things are corrupt without being charming.\n",
      "compound: -0.3553, \n",
      "neg: 0.314, \n",
      "neu: 0.493, \n",
      "pos: 0.192, \n",
      "There are slow and repetitive parts, BUT it has just enough spice to keep it interesting.\n",
      "compound: 0.4678, \n",
      "neg: 0.079, \n",
      "neu: 0.735, \n",
      "pos: 0.186, \n",
      "The script is not fantastic, but the acting is decent and the cinematography is EXCELLENT!\n",
      "compound: 0.7565, \n",
      "neg: 0.092, \n",
      "neu: 0.607, \n",
      "pos: 0.301, \n",
      "Roger Dodger is one of the most compelling variations on this theme.\n",
      "compound: 0.2944, \n",
      "neg: 0.0, \n",
      "neu: 0.834, \n",
      "pos: 0.166, \n",
      "Roger Dodger is one of the least compelling variations on this theme.\n",
      "compound: -0.1695, \n",
      "neg: 0.132, \n",
      "neu: 0.868, \n",
      "pos: 0.0, \n",
      "Roger Dodger is at least compelling as a variation on the theme.\n",
      "compound: 0.2263, \n",
      "neg: 0.0, \n",
      "neu: 0.84, \n",
      "pos: 0.16, \n",
      "they fall in love with the product\n",
      "compound: 0.6369, \n",
      "neg: 0.0, \n",
      "neu: 0.588, \n",
      "pos: 0.412, \n",
      "but then it breaks\n",
      "compound: 0.0, \n",
      "neg: 0.0, \n",
      "neu: 1.0, \n",
      "pos: 0.0, \n",
      "usually around the time the 90 day warranty expires\n",
      "compound: 0.0, \n",
      "neg: 0.0, \n",
      "neu: 1.0, \n",
      "pos: 0.0, \n",
      "the twin towers collapsed today\n",
      "compound: -0.2732, \n",
      "neg: 0.344, \n",
      "neu: 0.656, \n",
      "pos: 0.0, \n",
      "However, Mr. Carter solemnly argues, his client carried out the kidnapping under orders and in the ''least offensive way possible.''\n",
      "compound: -0.5859, \n",
      "neg: 0.23, \n",
      "neu: 0.697, \n",
      "pos: 0.074, \n"
     ]
    }
   ],
   "source": [
    "sid = SentimentIntensityAnalyzer()\n",
    "for sentence in sentences:\n",
    "    print(sentence)\n",
    "    ss = sid.polarity_scores(sentence)\n",
    "    for k in sorted(ss):\n",
    "        print('{0}: {1}, '.format(k, ss[k]), end='')\n",
    "        print()"
   ]
  }
 ],
 "metadata": {
  "kernelspec": {
   "display_name": "Python 3",
   "language": "python",
   "name": "python3"
  },
  "language_info": {
   "codemirror_mode": {
    "name": "ipython",
    "version": 3
   },
   "file_extension": ".py",
   "mimetype": "text/x-python",
   "name": "python",
   "nbconvert_exporter": "python",
   "pygments_lexer": "ipython3",
   "version": "3.6.0"
  }
 },
 "nbformat": 4,
 "nbformat_minor": 2
}
